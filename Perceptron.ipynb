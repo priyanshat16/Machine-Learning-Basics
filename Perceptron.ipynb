{
  "nbformat": 4,
  "nbformat_minor": 0,
  "metadata": {
    "colab": {
      "name": "Perceptron.ipynb",
      "provenance": [],
      "authorship_tag": "ABX9TyOIQd2JS3esQOttJqGaDGYC",
      "include_colab_link": true
    },
    "kernelspec": {
      "name": "python3",
      "display_name": "Python 3"
    }
  },
  "cells": [
    {
      "cell_type": "markdown",
      "metadata": {
        "id": "view-in-github",
        "colab_type": "text"
      },
      "source": [
        "<a href=\"https://colab.research.google.com/github/priyanshat16/Priyansha-Tiwari/blob/master/Perceptron.ipynb\" target=\"_parent\"><img src=\"https://colab.research.google.com/assets/colab-badge.svg\" alt=\"Open In Colab\"/></a>"
      ]
    },
    {
      "cell_type": "code",
      "metadata": {
        "id": "9ZcRyqyN0VeF",
        "colab_type": "code",
        "colab": {}
      },
      "source": [
        "class Perceptron:\n",
        "  def __init__(self,input_size,lr=0.5,epochs=100):\n",
        "    self.W = np.zeros(input_size+1)\n",
        "    self.epochs = epochs\n",
        "    self.lr = lr\n",
        "\n",
        "  def activation_fn(self,x):\n",
        "    if(x>=0):\n",
        "      return 1\n",
        "    else:\n",
        "      return 0\n",
        "\n",
        "  def predict(self,x):\n",
        "    z = self.W.T.dot(x)\n",
        "    a = self.activation_fn(z)\n",
        "    return a\n",
        "\n",
        "  def fit(self, X,d):\n",
        "    for _ in range(self.epochs):\n",
        "      for i in range(d.shape[0]):\n",
        "        x=np.insert(X[i],0,1)\n",
        "        y=self.predict(x)\n",
        "        e=d[i]-y\n",
        "        self.W= self.W + self.lr*e*x\n",
        "\n"
      ],
      "execution_count": 0,
      "outputs": []
    },
    {
      "cell_type": "code",
      "metadata": {
        "id": "ZsNn5M-f1y2C",
        "colab_type": "code",
        "colab": {
          "base_uri": "https://localhost:8080/",
          "height": 34
        },
        "outputId": "57a0a3d6-fdf4-4ae2-a031-925f6bdbc142"
      },
      "source": [
        "import numpy as np\n",
        "if __name__ == \"__main__\":\n",
        "  x = np.array([[0,0],[0,1],[1,0],[1,1]])\n",
        "  d = np.array([0,1,1,1])\n",
        "  perceptron = Perceptron(input_size=2)\n",
        "  perceptron.fit(x,d)\n",
        "  print(perceptron.W)"
      ],
      "execution_count": 32,
      "outputs": [
        {
          "output_type": "stream",
          "text": [
            "[-0.5  0.5  0.5]\n"
          ],
          "name": "stdout"
        }
      ]
    }
  ]
}